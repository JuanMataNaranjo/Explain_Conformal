{
 "cells": [
  {
   "cell_type": "code",
   "execution_count": 6,
   "metadata": {},
   "outputs": [],
   "source": [
    "import numpy as np\n",
    "import pandas as pd\n",
    "import matplotlib.pyplot as plt\n",
    "from matplotlib import patches\n",
    "import seaborn as sns\n",
    "import statsmodels.api as sm \n",
    "import statsmodels.formula.api as smf\n",
    "from statsmodels.stats.outliers_influence import variance_inflation_factor\n",
    "import sklearn\n",
    "from sklearn.impute import SimpleImputer\n",
    "from sklearn.preprocessing import OrdinalEncoder\n",
    "from sklearn.preprocessing import OneHotEncoder\n",
    "from sklearn.preprocessing import StandardScaler\n",
    "from sklearn.model_selection import train_test_split\n",
    "from sklearn.model_selection import cross_val_score\n",
    "from sklearn.model_selection import GridSearchCV\n",
    "from sklearn.feature_selection import VarianceThreshold"
   ]
  },
  {
   "cell_type": "code",
   "execution_count": 70,
   "metadata": {},
   "outputs": [],
   "source": [
    "df_train = pd.read_csv(\"data/houses/kc_house_data.csv\")"
   ]
  },
  {
   "cell_type": "code",
   "execution_count": 74,
   "metadata": {},
   "outputs": [],
   "source": [
    "df_train['date'] = pd.to_datetime(df_train['date'])\n",
    "df_train['year'] = df_train['date'].dt.year\n",
    "df_train['month'] = df_train['date'].dt.month\n",
    "df_train['day'] = df_train['date'].dt.day\n",
    "\n",
    "df_train.drop(['date'], inplace=True, axis=1)"
   ]
  },
  {
   "cell_type": "code",
   "execution_count": 72,
   "metadata": {},
   "outputs": [],
   "source": [
    "df_train.drop([\"id\"], axis=1, inplace=True)"
   ]
  },
  {
   "cell_type": "code",
   "execution_count": 77,
   "metadata": {},
   "outputs": [
    {
     "name": "stderr",
     "output_type": "stream",
     "text": [
      "c:\\Users\\juanm\\Anaconda3\\envs\\data_science_general\\lib\\site-packages\\pandas\\core\\series.py:726: RuntimeWarning: invalid value encountered in log\n",
      "  result = getattr(ufunc, method)(*inputs, **kwargs)\n"
     ]
    }
   ],
   "source": [
    "# Select features with absolute Skew higher than 0.5\n",
    "skew_ft = []\n",
    "\n",
    "for i in df_train.columns:\n",
    "    # list of skew for each corresponding feature\n",
    "    skew_ft.append(abs(df_train[i].skew()))\n",
    "\n",
    "df_skewed = pd.DataFrame({\"Columns\": df_train.columns, \"Abs_Skew\": skew_ft})\n",
    "sk_features = df_skewed[df_skewed[\"Abs_Skew\"] > 0.5][\"Columns\"].tolist()\n",
    "\n",
    "for i in sk_features:\n",
    "    # loop over i (features) to calculate Log of surfaces\n",
    "    # Training set\n",
    "    df_train[i] = np.log((df_train[i])+1)\n",
    "\n",
    "df_train[\"price\"] = np.log(df_train.price)"
   ]
  },
  {
   "cell_type": "code",
   "execution_count": 78,
   "metadata": {},
   "outputs": [
    {
     "name": "stdout",
     "output_type": "stream",
     "text": [
      "(21613, 21)\n",
      "(21613,)\n"
     ]
    }
   ],
   "source": [
    "X = df_train[[i for i in list(\n",
    "    df_train.columns) if i != \"price\"]]\n",
    "print(X.shape)\n",
    "\n",
    "# Target (y)\n",
    "y = df_train.loc[:, \"price\"]\n",
    "print(y.shape)"
   ]
  },
  {
   "cell_type": "code",
   "execution_count": 79,
   "metadata": {},
   "outputs": [
    {
     "name": "stdout",
     "output_type": "stream",
     "text": [
      "X_train:(15129, 21)\n",
      "y_train:(15129,)\n",
      "\n",
      "X_test:(6484, 21)\n",
      "y_test:(6484,)\n"
     ]
    }
   ],
   "source": [
    "bins = np.linspace(0, len(y), 150)\n",
    "y_binned = np.digitize(y, bins)\n",
    "\n",
    "# Split the data\n",
    "X_train, X_calib, y_train, y_calib = train_test_split(X, y, test_size=0.3,\n",
    "                                                      stratify=y_binned, shuffle=True)\n",
    "print(f\"X_train:{X_train.shape}\\ny_train:{y_train.shape}\")\n",
    "print(f\"\\nX_test:{X_calib.shape}\\ny_test:{y_calib.shape}\")"
   ]
  },
  {
   "cell_type": "code",
   "execution_count": 80,
   "metadata": {},
   "outputs": [
    {
     "name": "stderr",
     "output_type": "stream",
     "text": [
      "c:\\Users\\juanm\\Anaconda3\\envs\\data_science_general\\lib\\site-packages\\sklearn\\utils\\extmath.py:770: RuntimeWarning: invalid value encountered in true_divide\n",
      "  updated_mean = (last_sum + new_sum) / updated_sample_count\n",
      "c:\\Users\\juanm\\Anaconda3\\envs\\data_science_general\\lib\\site-packages\\sklearn\\utils\\extmath.py:711: RuntimeWarning: Degrees of freedom <= 0 for slice.\n",
      "  result = op(x, *args, **kwargs)\n"
     ]
    }
   ],
   "source": [
    "from sklearn import preprocessing\n",
    "\n",
    "# Standardize the data\n",
    "std_scale = preprocessing.StandardScaler().fit(X_train)\n",
    "X_train = std_scale.transform(X_train)\n",
    "X_calib = std_scale.transform(X_calib)\n",
    "\n",
    "\n",
    "# The output of standardization is a vector. Let's turn it into a table\n",
    "# Convert X, y and test data into dataframe\n",
    "X_train = pd.DataFrame(X_train, columns=X.columns)\n",
    "X_calib = pd.DataFrame(X_calib, columns=X.columns)\n",
    "\n",
    "y_train = pd.DataFrame(y_train)\n",
    "y_train = y_train.reset_index().drop(\"index\", axis=1)\n",
    "\n",
    "y_calib = pd.DataFrame(y_calib)\n",
    "y_calib = y_calib.reset_index().drop(\"index\", axis=1)"
   ]
  },
  {
   "cell_type": "code",
   "execution_count": 81,
   "metadata": {},
   "outputs": [],
   "source": [
    "import sklearn\n",
    "from sklearn.metrics import mean_squared_error, r2_score\n",
    "from xgboost import XGBRegressor"
   ]
  },
  {
   "cell_type": "code",
   "execution_count": 82,
   "metadata": {},
   "outputs": [],
   "source": [
    "model_xg = XGBRegressor()"
   ]
  },
  {
   "cell_type": "code",
   "execution_count": 83,
   "metadata": {},
   "outputs": [],
   "source": [
    "from sklearn.metrics import mean_squared_error, r2_score\n",
    "\n",
    "# Define a function for each metric\n",
    "# R²\n",
    "def rsqr_score(test, pred):\n",
    "    \"\"\"Calculate R squared score \n",
    "\n",
    "    Args:\n",
    "        test -- test data\n",
    "        pred -- predicted data\n",
    "\n",
    "    Returns:\n",
    "        R squared score \n",
    "    \"\"\"\n",
    "    r2_ = r2_score(test, pred)\n",
    "    return r2_\n",
    "\n",
    "\n",
    "# RMSE\n",
    "def rmse_score(test, pred):\n",
    "    \"\"\"Calculate Root Mean Square Error score \n",
    "\n",
    "    Args:\n",
    "        test -- test data\n",
    "        pred -- predicted data\n",
    "\n",
    "    Returns:\n",
    "        Root Mean Square Error score\n",
    "    \"\"\"\n",
    "    rmse_ = np.sqrt(mean_squared_error(test, pred))\n",
    "    return rmse_\n",
    "\n",
    "\n",
    "# Print the scores\n",
    "def print_score(test, pred, model):\n",
    "    \"\"\"Print calculated score \n",
    "\n",
    "    Args:\n",
    "        test -- test data\n",
    "        pred -- predicted data\n",
    "\n",
    "    Returns:\n",
    "        print the regressor name\n",
    "        print the R squared score\n",
    "        print Root Mean Square Error score\n",
    "    \"\"\"\n",
    "\n",
    "    print(f\"**** Regressor: {model} ****\")\n",
    "    print(f\"R²: {rsqr_score(test, pred)}\")\n",
    "    print(f\"RMSE: {rmse_score(test, pred)}\\n\")"
   ]
  },
  {
   "cell_type": "code",
   "execution_count": 84,
   "metadata": {},
   "outputs": [
    {
     "name": "stdout",
     "output_type": "stream",
     "text": [
      "Fitting 5 folds for each of 18 candidates, totalling 90 fits\n"
     ]
    },
    {
     "name": "stderr",
     "output_type": "stream",
     "text": [
      "[Parallel(n_jobs=-1)]: Using backend LokyBackend with 4 concurrent workers.\n",
      "[Parallel(n_jobs=-1)]: Done  42 tasks      | elapsed:  3.5min\n",
      "[Parallel(n_jobs=-1)]: Done  90 out of  90 | elapsed:  8.4min finished\n"
     ]
    },
    {
     "name": "stdout",
     "output_type": "stream",
     "text": [
      "Best hyperparameters: {'colsample_bytree': 0.7, 'learning_rate': 0.1, 'max_depth': 3, 'n_estimators': 1000}\n",
      "\n",
      "Best R²: 0.8970645548819369\n"
     ]
    }
   ],
   "source": [
    "# Define hyperparameters\n",
    "tuned_parameters_xgb = {\"max_depth\": [3],\n",
    "                        \"colsample_bytree\": [0.3, 0.7],\n",
    "                        \"learning_rate\": [0.01, 0.05, 0.1],\n",
    "                        \"n_estimators\": [100, 500, 1000]}\n",
    "\n",
    "# GridSearch\n",
    "xgbr_cv = GridSearchCV(estimator=XGBRegressor(),\n",
    "                       param_grid=tuned_parameters_xgb,\n",
    "                       cv=5,\n",
    "                       n_jobs=-1,\n",
    "                       verbose=1)\n",
    "\n",
    "# fit the GridSearch on train set\n",
    "xgbr_cv.fit(X_train, y_train)\n",
    "\n",
    "# print best params and the corresponding R²\n",
    "print(f\"Best hyperparameters: {xgbr_cv.best_params_}\\n\")\n",
    "print(f\"Best R²: {xgbr_cv.best_score_}\")"
   ]
  },
  {
   "cell_type": "code",
   "execution_count": 85,
   "metadata": {},
   "outputs": [
    {
     "name": "stdout",
     "output_type": "stream",
     "text": [
      "**** Regressor: XGBoost ****\n",
      "R²: 0.8992283570720371\n",
      "RMSE: 0.012577900392982812\n",
      "\n"
     ]
    }
   ],
   "source": [
    "model_xgb_opt = XGBRegressor(colsample_bytree = xgbr_cv.best_params_[\"colsample_bytree\"],\n",
    "                             learning_rate = xgbr_cv.best_params_[\"learning_rate\"],\n",
    "                             max_depth = xgbr_cv.best_params_[\"max_depth\"],\n",
    "                             n_estimators = xgbr_cv.best_params_[\"n_estimators\"])\n",
    "\n",
    "model_xgb_opt.fit(X_train, y_train)\n",
    "y_pred_xgb_opt = model_xgb_opt.predict(X_calib)\n",
    "print_score(y_calib, y_pred_xgb_opt, \"XGBoost\")"
   ]
  },
  {
   "cell_type": "markdown",
   "metadata": {},
   "source": [
    "### CP6"
   ]
  },
  {
   "cell_type": "code",
   "execution_count": 37,
   "metadata": {},
   "outputs": [],
   "source": [
    "from data_models.basic import LinearData, LinearDataCorrelated\n",
    "from conformal_prediction.basic import SplitConformal, QuantileConformal\n",
    "from sklearn.linear_model import LinearRegression, QuantileRegressor\n",
    "from sklearn.ensemble import RandomForestRegressor\n",
    "import numpy as np\n",
    "import matplotlib.pyplot as plt\n",
    "import copy\n",
    "import matplotlib.patches as mpatches\n",
    "from collections import defaultdict\n",
    "import statsmodels.formula.api as smf\n",
    "import aux_funcs\n",
    "import json\n",
    "from scipy.stats import foldnorm, norm\n",
    "from scipy.stats import pearsonr, t"
   ]
  },
  {
   "cell_type": "code",
   "execution_count": 38,
   "metadata": {},
   "outputs": [],
   "source": [
    "best_params = {'colsample_bytree': 0.7, 'learning_rate': 0.1, 'max_depth': 3, 'n_estimators': 1000}"
   ]
  },
  {
   "cell_type": "code",
   "execution_count": 97,
   "metadata": {},
   "outputs": [
    {
     "name": "stdout",
     "output_type": "stream",
     "text": [
      "0\n",
      "50\n"
     ]
    }
   ],
   "source": [
    "B = 100\n",
    "conformal_type = SplitConformal\n",
    "alpha = 0.05\n",
    "\n",
    "boot_size = []\n",
    "vars_j_1 = []\n",
    "vars_j_2 = []\n",
    "vars_LOCO = []\n",
    "boot_size_1 = defaultdict(list)\n",
    "boot_size_2 = defaultdict(list)\n",
    "boot_LOCO = defaultdict(list)\n",
    "\n",
    "model_full = XGBRegressor(colsample_bytree = best_params[\"colsample_bytree\"],\n",
    "                          learning_rate = best_params[\"learning_rate\"],\n",
    "                          max_depth = best_params[\"max_depth\"],\n",
    "                          n_estimators = best_params[\"n_estimators\"])\n",
    "model_full.fit(X_train, y_train)\n",
    "model_full = copy.copy(model_full)\n",
    "\n",
    "conformal_predictor = conformal_type(alpha=alpha)\n",
    "size = 2*conformal_predictor.calibrate(data_X=X_calib, data_y=y_calib.iloc[:, 0], \n",
    "                                       model=model_full, rand_state=None)\n",
    "\n",
    "data_X_train = copy.copy(X_train)\n",
    "data_X_calib = copy.copy(X_calib)\n",
    "    \n",
    "for variable in X_calib.columns:\n",
    "\n",
    "    # Train Twice\n",
    "    data_X_train_j_2 = data_X_train.loc[:, data_X_train.columns!=variable]\n",
    "    data_X_calib_j_2 = data_X_calib.loc[:, data_X_calib.columns!=variable]\n",
    "\n",
    "    model_j_2 = XGBRegressor(colsample_bytree = best_params[\"colsample_bytree\"],\n",
    "                          learning_rate = best_params[\"learning_rate\"],\n",
    "                          max_depth = best_params[\"max_depth\"],\n",
    "                          n_estimators = best_params[\"n_estimators\"])\n",
    "    model_j_2.fit(data_X_train_j_2, y_train)\n",
    "\n",
    "    conformal_predictor_j = SplitConformal(alpha=alpha)\n",
    "\n",
    "    size_j_2 = 2*conformal_predictor_j.calibrate(data_X=data_X_calib_j_2, data_y=y_calib.iloc[:, 0], \n",
    "                                                    model=model_j_2, rand_state=None)\n",
    "    vars_j_2.append(size_j_2-size)\n",
    "\n",
    "    # Train Once\n",
    "    data_X_calib_j_1 = copy.copy(data_X_calib)\n",
    "    data_X_calib_j_1[variable] = 0\n",
    "\n",
    "    conformal_predictor_j = SplitConformal(alpha=alpha)\n",
    "\n",
    "    size_j_1 = 2*conformal_predictor_j.calibrate(data_X=data_X_calib_j_1, data_y=y_calib.iloc[:, 0], \n",
    "                                                    model=model_full, rand_state=None)\n",
    "\n",
    "    vars_j_1.append(size_j_1-size)\n",
    "\n",
    "    # LOCO\n",
    "    vars_LOCO.append(np.median(abs(y_calib.iloc[:, 0]-model_j_2.predict(data_X_calib_j_2))-abs(y_calib.iloc[:, 0]-model_full.predict(data_X_calib))))\n",
    "\n",
    "for i in range(B):\n",
    "\n",
    "    if i % 50 == 0:\n",
    "        print(i)\n",
    "\n",
    "    train_rand = np.random.choice(np.arange(0, len(X_train)), size=len(X_train), replace=True)\n",
    "    calib_rand = np.random.choice(np.arange(0, len(X_calib)),size=len(X_calib), replace=True)\n",
    "\n",
    "    train_data_X = copy.copy(X_train.iloc[train_rand])\n",
    "    train_data_y = copy.copy(y_train.iloc[train_rand])\n",
    "    calib_data_X = copy.copy(X_calib.iloc[calib_rand])\n",
    "    calib_data_y = copy.copy(y_calib.iloc[calib_rand])\n",
    "\n",
    "    model_full = XGBRegressor(colsample_bytree = best_params[\"colsample_bytree\"],\n",
    "                                learning_rate = best_params[\"learning_rate\"],\n",
    "                                max_depth = best_params[\"max_depth\"],\n",
    "                                n_estimators = best_params[\"n_estimators\"])\n",
    "    model_full.fit(train_data_X, train_data_y)\n",
    "    model_full = copy.copy(model_full)\n",
    "\n",
    "    conformal_predictor = conformal_type(alpha=alpha)\n",
    "    size = 2*conformal_predictor.calibrate(data_X=calib_data_X, data_y=calib_data_y.iloc[:, 0], \n",
    "                                                          model=model_full, rand_state=None)\n",
    "\n",
    "    boot_size.append(size)\n",
    "\n",
    "    data_X_train = copy.copy(train_data_X)\n",
    "    data_X_calib = copy.copy(calib_data_X)\n",
    "    \n",
    "    for variable in X_calib.columns:\n",
    "\n",
    "        # Train Twice\n",
    "        data_X_train_j_2 = data_X_train.loc[:, data_X_train.columns!=variable]\n",
    "        data_X_calib_j_2 = data_X_calib.loc[:, data_X_calib.columns!=variable]\n",
    "\n",
    "        model_j_2 = XGBRegressor(colsample_bytree = best_params[\"colsample_bytree\"],\n",
    "                          learning_rate = best_params[\"learning_rate\"],\n",
    "                          max_depth = best_params[\"max_depth\"],\n",
    "                          n_estimators = best_params[\"n_estimators\"])\n",
    "        model_j_2.fit(data_X_train_j_2, train_data_y)\n",
    "\n",
    "        conformal_predictor_j = SplitConformal(alpha=alpha)\n",
    "\n",
    "        size_j_2 = 2*conformal_predictor_j.calibrate(data_X=data_X_calib_j_2, data_y=calib_data_y.iloc[:, 0], \n",
    "                                                     model=model_j_2, rand_state=None)\n",
    "        boot_size_2[variable].extend([size_j_2])\n",
    "\n",
    "        # Train Once\n",
    "        data_X_calib_j_1 = copy.copy(data_X_calib)\n",
    "        data_X_calib_j_1[variable] = 0  \n",
    "\n",
    "        conformal_predictor_j = SplitConformal(alpha=alpha)\n",
    "\n",
    "        size_j_1 = 2*conformal_predictor_j.calibrate(data_X=data_X_calib_j_1, data_y=calib_data_y.iloc[:, 0], \n",
    "                                                     model=model_full, rand_state=None)\n",
    "\n",
    "        boot_size_1[variable].extend([size_j_1])\n",
    "\n",
    "        # LOCO\n",
    "        boot_LOCO[variable].extend([np.median(abs(calib_data_y.iloc[:, 0]-model_j_2.predict(data_X_calib_j_2))-abs(calib_data_y.iloc[:, 0]-model_full.predict(data_X_calib)))])\n",
    "\n",
    "with open('data_results/Houses/boot_xgb_split_size_full.json', 'w') as fp:\n",
    "    json.dump(boot_size, fp)\n",
    "\n",
    "with open('data_results/Houses/boot_xgb_split_train_once_size.json', 'w') as fp:\n",
    "    json.dump(boot_size_1, fp)\n",
    "\n",
    "with open('data_results/Houses/boot_xgb_split_train_twice_size.json', 'w') as fp:\n",
    "    json.dump(boot_size_2, fp)\n",
    "\n",
    "with open('data_results/Houses/boot_xgb_split_train_LOCO.json', 'w') as fp:\n",
    "    json.dump(boot_LOCO, fp)\n",
    "\n",
    "with open('data_results/Houses/xgb_split_train_LOCO.json', 'w') as fp:\n",
    "    json.dump(vars_LOCO, fp)\n",
    "\n",
    "with open('data_results/Houses/boot_xgb_split_train_twice_var_1_j.json', 'w') as fp:\n",
    "    json.dump(vars_j_1, fp)\n",
    "\n",
    "with open('data_results/Houses/boot_xgb_split_train_twice_var_2_j.json', 'w') as fp:\n",
    "    json.dump(vars_j_2, fp)"
   ]
  },
  {
   "cell_type": "code",
   "execution_count": 98,
   "metadata": {},
   "outputs": [],
   "source": [
    "import scipy\n",
    "from matplotlib.transforms import Affine2D\n",
    "from mpl_axes_aligner import align\n",
    "\n",
    "yerr_1 = []\n",
    "yerr_2 = []\n",
    "yerr_LOCO = []\n",
    "\n",
    "for i, variable in enumerate(X_calib.columns):\n",
    "\n",
    "    data_1 = np.array(boot_size_1[variable]) - np.array(boot_size)\n",
    "    data_2 = np.array(boot_size_2[variable]) - np.array(boot_size)\n",
    "\n",
    "    std_1 = np.std(data_1, ddof=1)\n",
    "    std_2 = np.std(data_2, ddof=1)\n",
    "    std_LOCO = np.std(boot_LOCO[variable], ddof=1)\n",
    "    h_1 = scipy.stats.norm.ppf(1-0.05/2)*std_1\n",
    "    yerr_1.append(h_1)\n",
    "    h_2 = scipy.stats.norm.ppf(1-0.05/2)*std_2\n",
    "    yerr_2.append(h_2)\n",
    "    h_LOCO = scipy.stats.norm.ppf(1-0.05/2)*std_LOCO\n",
    "    yerr_LOCO.append(h_LOCO)"
   ]
  },
  {
   "cell_type": "code",
   "execution_count": 106,
   "metadata": {},
   "outputs": [
    {
     "name": "stderr",
     "output_type": "stream",
     "text": [
      "c:\\Users\\juanm\\Anaconda3\\envs\\data_science_general\\lib\\site-packages\\ipykernel_launcher.py:25: UserWarning: FixedFormatter should only be used together with FixedLocator\n"
     ]
    },
    {
     "data": {
      "image/png": "[encoded data removed]",
      "text/plain": [
       "<Figure size 864x576 with 2 Axes>"
      ]
     },
     "metadata": {
      "needs_background": "light"
     },
     "output_type": "display_data"
    }
   ],
   "source": [
    "x = X_calib.columns\n",
    "\n",
    "fig, ax1 = plt.subplots(figsize=(12,8))\n",
    "\n",
    "trans1 = Affine2D().translate(-0.2, 0.0) + ax1.transData\n",
    "trans2 = Affine2D().translate(+0.2, 0.0) + ax1.transData\n",
    "ax1.set_xlabel('Features')\n",
    "ax1.set_ylabel('CP6 Variable Importance')\n",
    "p1 = ax1.errorbar(x, vars_j_1, yerr=yerr_1, fmt='o', transform=trans1, color='red', label='CP-1')\n",
    "p2 = ax1.errorbar(x, vars_j_2, yerr=yerr_2, fmt='o', transform=trans2, color='black', label='CP-2')\n",
    "\n",
    "ax2 = ax1.twinx()  # instantiate a second axes that shares the same x-axis\n",
    "\n",
    "ax2.set_ylabel('LOCO Variable Importance') \n",
    "p3 = ax2.errorbar(x, vars_LOCO, yerr=yerr_LOCO, fmt='o', label='LOCO')\n",
    "plt.axline(xy1=(0, 0), slope=0, color='r', linestyle='--')\n",
    "fig.legend(loc=\"upper right\", bbox_to_anchor=(1,1), bbox_transform=ax1.transAxes)\n",
    "plt.title('LOCO vs CP6')\n",
    "\n",
    "# Adjust the plotting range of two y axes\n",
    "org1 = 0.0  # Origin of first axis\n",
    "org2 = 0.0  # Origin of second axis\n",
    "pos = 0.1  # Position the two origins are aligned\n",
    "align.yaxes(ax1, org1, ax2, org2, pos)\n",
    "ax1.set_xticklabels(labels=x, rotation=90)\n",
    "\n",
    "plt.savefig('images/Houses/LOCO_vs_CP6_new')\n",
    "plt.show()"
   ]
  },
  {
   "cell_type": "code",
   "execution_count": null,
   "metadata": {},
   "outputs": [],
   "source": []
  }
 ],
 "metadata": {
  "interpreter": {
   "hash": "3ae3fc0759c9e73d751d036546780ef05fb57892d7968af11766dd413d6d1d18"
  },
  "kernelspec": {
   "display_name": "Python 3.7.9 ('data_science_general')",
   "language": "python",
   "name": "python3"
  },
  "language_info": {
   "codemirror_mode": {
    "name": "ipython",
    "version": 3
   },
   "file_extension": ".py",
   "mimetype": "text/x-python",
   "name": "python",
   "nbconvert_exporter": "python",
   "pygments_lexer": "ipython3",
   "version": "3.7.9"
  },
  "orig_nbformat": 4
 },
 "nbformat": 4,
 "nbformat_minor": 2
}
