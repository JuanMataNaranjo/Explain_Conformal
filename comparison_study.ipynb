{
 "cells": [
  {
   "cell_type": "code",
   "execution_count": 1,
   "metadata": {},
   "outputs": [],
   "source": [
    "%load_ext autoreload\n",
    "%autoreload 2"
   ]
  },
  {
   "cell_type": "code",
   "execution_count": 1,
   "metadata": {},
   "outputs": [],
   "source": [
    "from data_models.basic import LOCOData\n",
    "from conformal_prediction.basic import SplitConformal\n",
    "from sklearn.ensemble import RandomForestRegressor\n",
    "import numpy as np\n",
    "import matplotlib.pyplot as plt\n",
    "import copy\n",
    "import matplotlib.patches as mpatches\n",
    "from collections import defaultdict\n",
    "import json\n",
    "import aux_funcs\n",
    "from scipy.stats import foldnorm, norm\n",
    "from scipy.stats import t\n",
    "from explainable_models.variable_importance.LOCO import SimpleLOCO, plot_ci\n",
    "from matplotlib.transforms import Affine2D\n",
    "from mpl_axes_aligner import align\n",
    "from data_models.basic import LinearData, LinearDataCorrelated, LinearDataTest\n",
    "from conformal_prediction.basic import SplitConformal, QuantileConformal\n",
    "from sklearn.linear_model import LinearRegression, QuantileRegressor"
   ]
  },
  {
   "cell_type": "markdown",
   "metadata": {},
   "source": [
    "# Own Variable Importance"
   ]
  },
  {
   "cell_type": "code",
   "execution_count": 3,
   "metadata": {},
   "outputs": [],
   "source": [
    "weights=np.array([8, 4, 0.1, -0.1, 8, -8, -4, -3, 1, 5])\n",
    "\n",
    "cov_matrix = np.eye(N=10)\n",
    "split_percentages=[0.70, 0.20, 0.10]\n",
    "mu = np.array([0, 0, 0, 0, 0, 0, 0, 0, 0, 0])\n",
    "locodata = LinearDataCorrelated(n=1000, mu=mu, cov_matrix=cov_matrix, std=1, weights=weights)\n",
    "# locodata = LOCOData(n=10000)\n",
    "locodata.X_y_split(y='Y')"
   ]
  },
  {
   "cell_type": "code",
   "execution_count": 4,
   "metadata": {},
   "outputs": [],
   "source": [
    "model = RandomForestRegressor()"
   ]
  },
  {
   "cell_type": "code",
   "execution_count": 13,
   "metadata": {},
   "outputs": [],
   "source": [
    "loco = SimpleLOCO(model=model, train_data=locodata.data, y_feature='Y')"
   ]
  },
  {
   "cell_type": "code",
   "execution_count": 14,
   "metadata": {},
   "outputs": [],
   "source": [
    "x = []\n",
    "y = []\n",
    "yerr = []\n",
    "for var in locodata.train_data.columns.tolist()[:-1]:\n",
    "    feature_importance, ci = loco.run_loco(variable=var, prop=0.7, loss_type='mean', alpha=0.05, bootstrap=200)\n",
    "    x.append(var)\n",
    "    y.append(feature_importance)\n",
    "    yerr.append(ci)"
   ]
  },
  {
   "cell_type": "code",
   "execution_count": 15,
   "metadata": {},
   "outputs": [
    {
     "data": {
      "text/plain": [
       "RandomForestRegressor()"
      ]
     },
     "execution_count": 15,
     "metadata": {},
     "output_type": "execute_result"
    }
   ],
   "source": [
    "random_forest = RandomForestRegressor()\n",
    "random_forest.fit(locodata.train_data_X, locodata.train_data_y)"
   ]
  },
  {
   "cell_type": "code",
   "execution_count": 19,
   "metadata": {},
   "outputs": [
    {
     "data": {
      "text/plain": [
       "array([0.18053561, 0.36827661, 0.17338977, 0.09458492, 0.09270135,\n",
       "       0.09051174])"
      ]
     },
     "execution_count": 19,
     "metadata": {},
     "output_type": "execute_result"
    }
   ],
   "source": [
    "random_forest.feature_importances_"
   ]
  },
  {
   "cell_type": "code",
   "execution_count": 12,
   "metadata": {},
   "outputs": [
    {
     "name": "stdout",
     "output_type": "stream",
     "text": [
      "0\n"
     ]
    }
   ],
   "source": [
    "weights=np.array([8, 4, 0.1, -0.1, 8, -8, -4, -3, 1, 5])\n",
    "\n",
    "cov_matrix = np.eye(N=10)\n",
    "split_percentages=[0.45, 0.45, 0.10]\n",
    "mu = np.array([0, 0, 0, 0, 0, 0, 0, 0, 0, 0])\n",
    "locodata = LinearDataCorrelated(n=1000, mu=mu, cov_matrix=cov_matrix, std=1, weights=weights)\n",
    "# locodata = LOCOData(n=10000)\n",
    "locodata.X_y_split(y='Y')\n",
    "\n",
    "plot = None\n",
    "B = 10\n",
    "model = LinearRegression()\n",
    "conformal_type = SplitConformal\n",
    "alpha = 0.05\n",
    "\n",
    "boot_size = []\n",
    "vars_j_1 = []\n",
    "vars_j_2 = []\n",
    "vars_LOCO = []\n",
    "boot_size_1 = defaultdict(list)\n",
    "boot_size_2 = defaultdict(list)\n",
    "boot_LOCO = defaultdict(list)\n",
    "\n",
    "model_full = model\n",
    "model_full.fit(locodata.train_data_X, locodata.train_data_y)\n",
    "model_full = copy.copy(model_full)\n",
    "\n",
    "conformal_predictor = conformal_type(alpha=alpha)\n",
    "lambda_all = conformal_predictor.calibrate(data_X=locodata.calib_data_X, data_y=locodata.calib_data_y, \n",
    "                                                        model=model_full, rand_state=None)\n",
    "pred_all = conformal_predictor.predict(locodata.test_data_X, model=model_full, lambda_conformal=lambda_all)\n",
    "\n",
    "cov, size = conformal_predictor.evaluate(pred_all, locodata.test_data_y)\n",
    "\n",
    "data_X_train = copy.copy(locodata.train_data_X)\n",
    "data_X_calib = copy.copy(locodata.calib_data_X)\n",
    "data_X_test = copy.copy(locodata.test_data_X)\n",
    "    \n",
    "for variable in locodata.calib_data_X.columns:\n",
    "\n",
    "    # Train Twice\n",
    "    data_X_train_j_2 = data_X_train.loc[:, data_X_train.columns!=variable]\n",
    "    data_X_calib_j_2 = data_X_calib.loc[:, data_X_calib.columns!=variable]\n",
    "    data_X_test_j_2 = data_X_test.loc[:, data_X_test.columns!=variable]\n",
    "\n",
    "    model_j_2 = model\n",
    "    model_j_2.fit(data_X_train_j_2, locodata.train_data_y)\n",
    "\n",
    "    conformal_predictor_j = SplitConformal(alpha=alpha)\n",
    "\n",
    "    lambda_j_2 = conformal_predictor_j.calibrate(data_X=data_X_calib_j_2, data_y=locodata.calib_data_y, \n",
    "                                                    model=model_j_2, rand_state=None)\n",
    "    pred_j_2 = conformal_predictor_j.predict(data_X_test_j_2, model=model_j_2, lambda_conformal=lambda_j_2)\n",
    "\n",
    "    cov_j_2, size_j_2 = conformal_predictor_j.evaluate(pred_j_2, locodata.test_data_y)\n",
    "    vars_j_2.append(size_j_2-size)\n",
    "\n",
    "    # Train Once\n",
    "    data_X_calib_j_1 = copy.copy(data_X_calib)\n",
    "    data_X_calib_j_1[variable] = 0\n",
    "    data_X_test_j_1 = copy.copy(data_X_test)\n",
    "    data_X_test_j_1[variable] = 0   \n",
    "\n",
    "    conformal_predictor_j = SplitConformal(alpha=alpha)\n",
    "\n",
    "    lambda_j_1 = conformal_predictor_j.calibrate(data_X=data_X_calib_j_1, data_y=locodata.calib_data_y, \n",
    "                                                    model=model_full, rand_state=None)\n",
    "    pred_j_1 = conformal_predictor_j.predict(data_X_test_j_1, model=model_full, lambda_conformal=lambda_j_1)\n",
    "\n",
    "    cov_j_1, size_j_1 = conformal_predictor_j.evaluate(pred_j_1, locodata.test_data_y)\n",
    "    vars_j_1.append(size_j_1-size)\n",
    "\n",
    "    # LOCO\n",
    "    vars_LOCO.append(np.median(abs(locodata.test_data_y-model_j_2.predict(data_X_test_j_2))-abs(locodata.test_data_y-model_full.predict(data_X_test))))\n",
    "\n",
    "\n",
    "# x = ['f1', 'f2', 'f3', 'f4', 'f5', 'f6']\n",
    "\n",
    "# fig, ax1 = plt.subplots(figsize=(12,8))\n",
    "\n",
    "# trans1 = Affine2D().translate(-0.2, 0.0) + ax1.transData\n",
    "# trans2 = Affine2D().translate(+0.2, 0.0) + ax1.transData\n",
    "# ax1.set_xlabel('time (s)')\n",
    "# ax1.set_ylabel('CP6 Variable Importance')\n",
    "# p1 = ax1.errorbar(x, vars_j_1, yerr=0, fmt='o', transform=trans1, color='red', label='CP-1')\n",
    "# p2 = ax1.errorbar(x, vars_j_2, yerr=0, fmt='o', transform=trans2, color='black', label='CP-2')\n",
    "\n",
    "# ax2 = ax1.twinx()  # instantiate a second axes that shares the same x-axis\n",
    "\n",
    "# ax2.set_ylabel('LOCO Variable Importance') \n",
    "# p3 = ax2.errorbar(x, vars_LOCO, yerr=0, fmt='o', label='LOCO')\n",
    "# plt.axline(xy1=(0, 0), slope=0, color='r', linestyle='--')\n",
    "# fig.legend(loc=\"upper right\", bbox_to_anchor=(1,1), bbox_transform=ax1.transAxes)\n",
    "# plt.title('LOCO vs CP6')\n",
    "\n",
    "# # Adjust the plotting range of two y axes\n",
    "# org1 = 0.0  # Origin of first axis\n",
    "# org2 = 0.0  # Origin of second axis\n",
    "# pos = 0.1  # Position the two origins are aligned\n",
    "# align.yaxes(ax1, org1, ax2, org2, pos)\n",
    "# plt.show()\n",
    "\n",
    "for i in range(B):\n",
    "\n",
    "    if i % 10 == 0:\n",
    "        print(i)\n",
    "\n",
    "    train_rand = np.random.choice(np.arange(0, len(locodata.train_data)), size=len(locodata.train_data), replace=True)\n",
    "    calib_rand = np.random.choice(np.arange(0, len(locodata.calib_data)),size=len(locodata.calib_data), replace=True)\n",
    "\n",
    "    train_data_X = copy.copy(locodata.train_data_X.iloc[train_rand])\n",
    "    train_data_y = copy.copy(locodata.train_data_y.iloc[train_rand])\n",
    "    calib_data_X = copy.copy(locodata.calib_data_X.iloc[calib_rand])\n",
    "    calib_data_y = copy.copy(locodata.calib_data_y.iloc[calib_rand])\n",
    "\n",
    "    model_full = model\n",
    "    model_full.fit(train_data_X, train_data_y)\n",
    "    model_full = copy.copy(model_full)\n",
    "\n",
    "    conformal_predictor = conformal_type(alpha=alpha)\n",
    "    lambda_all = conformal_predictor.calibrate(data_X=calib_data_X, data_y=calib_data_y, \n",
    "                                                          model=model_full, rand_state=None)\n",
    "    pred_all = conformal_predictor.predict(locodata.test_data_X, model=model_full, lambda_conformal=lambda_all)\n",
    "\n",
    "    cov, size = conformal_predictor.evaluate(pred_all, locodata.test_data_y)\n",
    "\n",
    "    boot_size.append(size)\n",
    "\n",
    "    data_X_train = copy.copy(train_data_X)\n",
    "    data_X_calib = copy.copy(calib_data_X)\n",
    "    data_X_test = copy.copy(locodata.test_data_X)\n",
    "    \n",
    "    for variable in locodata.calib_data_X.columns:\n",
    "\n",
    "        # Train Twice\n",
    "        data_X_train_j_2 = data_X_train.loc[:, data_X_train.columns!=variable]\n",
    "        data_X_calib_j_2 = data_X_calib.loc[:, data_X_calib.columns!=variable]\n",
    "        data_X_test_j_2 = data_X_test.loc[:, data_X_test.columns!=variable]\n",
    "\n",
    "        model_j_2 = model\n",
    "        model_j_2.fit(data_X_train_j_2, train_data_y)\n",
    "\n",
    "        conformal_predictor_j = SplitConformal(alpha=alpha)\n",
    "\n",
    "        lambda_j_2 = conformal_predictor_j.calibrate(data_X=data_X_calib_j_2, data_y=calib_data_y, \n",
    "                                                     model=model_j_2, rand_state=None)\n",
    "        pred_j_2 = conformal_predictor_j.predict(data_X_test_j_2, model=model_j_2, lambda_conformal=lambda_j_2)\n",
    "\n",
    "        cov_j_2, size_j_2 = conformal_predictor_j.evaluate(pred_j_2, locodata.test_data_y)\n",
    "\n",
    "        boot_size_2[variable].extend([size_j_2])\n",
    "\n",
    "        # Train Once\n",
    "        data_X_calib_j_1 = copy.copy(data_X_calib)\n",
    "        data_X_calib_j_1[variable] = 0\n",
    "        data_X_test_j_1 = copy.copy(data_X_test)\n",
    "        data_X_test_j_1[variable] = 0   \n",
    "\n",
    "        conformal_predictor_j = SplitConformal(alpha=alpha)\n",
    "\n",
    "        lambda_j_1 = conformal_predictor_j.calibrate(data_X=data_X_calib_j_1, data_y=calib_data_y, \n",
    "                                                     model=model_full, rand_state=None)\n",
    "        pred_j_1 = conformal_predictor_j.predict(data_X_test_j_1, model=model_full, lambda_conformal=lambda_j_1)\n",
    "\n",
    "        cov_j_1, size_j_1 = conformal_predictor_j.evaluate(pred_j_1, locodata.test_data_y)\n",
    "\n",
    "        boot_size_1[variable].extend([size_j_1])\n",
    "\n",
    "        # LOCO\n",
    "        boot_LOCO[variable].extend([np.median(abs(locodata.test_data_y-model_j_2.predict(data_X_test_j_2))-abs(locodata.test_data_y-model_full.predict(data_X_test)))])"
   ]
  },
  {
   "cell_type": "code",
   "execution_count": 13,
   "metadata": {},
   "outputs": [],
   "source": [
    "import scipy\n",
    "\n",
    "yerr_1 = []\n",
    "yerr_2 = []\n",
    "yerr_LOCO = []\n",
    "\n",
    "for i, variable in enumerate(locodata.calib_data_X.columns):\n",
    "\n",
    "    data_1 = np.array(boot_size_1[variable]) - np.array(boot_size)\n",
    "    data_2 = np.array(boot_size_2[variable]) - np.array(boot_size)\n",
    "\n",
    "    std_1 = np.std(data_1, ddof=1)\n",
    "    std_2 = np.std(data_2, ddof=1)\n",
    "    std_LOCO = np.std(boot_LOCO[variable], ddof=1)\n",
    "    h_1 = scipy.stats.norm.ppf(1-0.2/2)*std_1\n",
    "    yerr_1.append(h_1)\n",
    "    h_2 = scipy.stats.norm.ppf(1-0.2/2)*std_2\n",
    "    yerr_2.append(h_2)\n",
    "    h_LOCO = scipy.stats.norm.ppf(1-0.2/2)*std_LOCO\n",
    "    yerr_LOCO.append(h_LOCO)"
   ]
  },
  {
   "cell_type": "code",
   "execution_count": 14,
   "metadata": {},
   "outputs": [
    {
     "data": {
      "image/png": "[encoded data removed]",
      "text/plain": [
       "<Figure size 864x576 with 2 Axes>"
      ]
     },
     "metadata": {
      "needs_background": "light"
     },
     "output_type": "display_data"
    }
   ],
   "source": [
    "x = locodata.calib_data_X.columns\n",
    "\n",
    "fig, ax1 = plt.subplots(figsize=(12,8))\n",
    "\n",
    "trans1 = Affine2D().translate(-0.2, 0.0) + ax1.transData\n",
    "trans2 = Affine2D().translate(+0.2, 0.0) + ax1.transData\n",
    "ax1.set_xlabel('time (s)')\n",
    "ax1.set_ylabel('CP6 Variable Importance')\n",
    "# ax1.set_ylim((-0.1, 1.2))\n",
    "p1 = ax1.errorbar(x, vars_j_1, yerr=yerr_1, fmt='o', transform=trans1, color='red', label='CP-1')\n",
    "p2 = ax1.errorbar(x, vars_j_2, yerr=yerr_2, fmt='o', transform=trans2, color='black', label='CP-2')\n",
    "\n",
    "ax2 = ax1.twinx()  # instantiate a second axes that shares the same x-axis\n",
    "\n",
    "ax2.set_ylabel('LOCO Variable Importance') \n",
    "p3 = ax2.errorbar(x, vars_LOCO, yerr=yerr_LOCO, fmt='o', label='LOCO')\n",
    "plt.axline(xy1=(0, 0), slope=0, color='r', linestyle='--')\n",
    "fig.legend(loc=\"upper right\", bbox_to_anchor=(1,1), bbox_transform=ax1.transAxes)\n",
    "plt.title('LOCO vs CP6')\n",
    "\n",
    "# Adjust the plotting range of two y axes\n",
    "org1 = 0.0  # Origin of first axis\n",
    "org2 = 0.0  # Origin of second axis\n",
    "pos = 0.1  # Position the two origins are aligned\n",
    "align.yaxes(ax1, org1, ax2, org2, pos)\n",
    "\n",
    "# plt.savefig('images/Linear_data/LOCO_vs_CP6_new_alpha_50')\n",
    "plt.show()"
   ]
  },
  {
   "cell_type": "code",
   "execution_count": null,
   "metadata": {},
   "outputs": [],
   "source": []
  }
 ],
 "metadata": {
  "interpreter": {
   "hash": "3ae3fc0759c9e73d751d036546780ef05fb57892d7968af11766dd413d6d1d18"
  },
  "kernelspec": {
   "display_name": "Python 3.7.9 ('data_science_general')",
   "language": "python",
   "name": "python3"
  },
  "language_info": {
   "codemirror_mode": {
    "name": "ipython",
    "version": 3
   },
   "file_extension": ".py",
   "mimetype": "text/x-python",
   "name": "python",
   "nbconvert_exporter": "python",
   "pygments_lexer": "ipython3",
   "version": "3.7.9"
  },
  "orig_nbformat": 4
 },
 "nbformat": 4,
 "nbformat_minor": 2
}
