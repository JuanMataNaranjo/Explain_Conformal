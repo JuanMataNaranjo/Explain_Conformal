{
 "cells": [
  {
   "cell_type": "code",
   "execution_count": 1,
   "metadata": {},
   "outputs": [],
   "source": [
    "from data_models.basic import Tabular\n",
    "from models.basic import SVM\n",
    "from conformal_prediction.basic import SimpleConformal"
   ]
  },
  {
   "cell_type": "code",
   "execution_count": 2,
   "metadata": {},
   "outputs": [],
   "source": [
    "# Read Data\n",
    "wineqt = Tabular(data_path='data\\WineQT.csv', split_percentages=[0.70, 0.20, 0.10])\n",
    "wineqt.X_y_split(y='quality')"
   ]
  },
  {
   "cell_type": "code",
   "execution_count": 3,
   "metadata": {},
   "outputs": [],
   "source": [
    "# Train model and evaluate performance\n",
    "svm_model = SVM(data_model=wineqt, probability=True, verbose=True)"
   ]
  },
  {
   "cell_type": "code",
   "execution_count": 4,
   "metadata": {},
   "outputs": [
    {
     "name": "stdout",
     "output_type": "stream",
     "text": [
      "[LibSVM]"
     ]
    }
   ],
   "source": [
    "svm_model.fit()"
   ]
  },
  {
   "cell_type": "code",
   "execution_count": 9,
   "metadata": {},
   "outputs": [],
   "source": [
    "acc, cm = svm_model.evaluate()\n",
    "print(acc)\n",
    "print(cm)"
   ]
  },
  {
   "cell_type": "code",
   "execution_count": null,
   "metadata": {},
   "outputs": [],
   "source": [
    "order_dict = {3: 0,\n",
    "              4: 1,\n",
    "              5: 2,\n",
    "              6: 3,\n",
    "              7: 4,\n",
    "              8: 5}\n",
    "\n",
    "conformal = SimpleConformal(wineqt, svm_model, alpha=0.7, class_order=order_dict)"
   ]
  },
  {
   "cell_type": "code",
   "execution_count": null,
   "metadata": {},
   "outputs": [],
   "source": [
    "lambda_conformal = conformal.calibrate()\n",
    "pred = conformal.predict(data=wineqt.test_data_X, lambda_conformal=lambda_conformal)"
   ]
  },
  {
   "cell_type": "code",
   "execution_count": 18,
   "metadata": {},
   "outputs": [],
   "source": [
    "coverage, size = conformal.evaluate(true_data=wineqt.test_data_y, pred=pred, plot=True)"
   ]
  },
  {
   "cell_type": "code",
   "execution_count": 23,
   "metadata": {},
   "outputs": [],
   "source": []
  }
 ],
 "metadata": {
  "interpreter": {
   "hash": "cd717f3d22045e6a1acb97ac71ff2b37b404151c150d1d689feaa04a2a68d6dc"
  },
  "kernelspec": {
   "display_name": "Python 3.7.9 ('data_science_general')",
   "language": "python",
   "name": "python3"
  },
  "language_info": {
   "codemirror_mode": {
    "name": "ipython",
    "version": 3
   },
   "file_extension": ".py",
   "mimetype": "text/x-python",
   "name": "python",
   "nbconvert_exporter": "python",
   "pygments_lexer": "ipython3",
   "version": "3.7.9"
  },
  "orig_nbformat": 4
 },
 "nbformat": 4,
 "nbformat_minor": 2
}
