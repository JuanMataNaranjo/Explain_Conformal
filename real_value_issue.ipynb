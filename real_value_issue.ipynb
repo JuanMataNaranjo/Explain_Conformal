{
 "cells": [
  {
   "cell_type": "code",
   "execution_count": 724,
   "metadata": {},
   "outputs": [
    {
     "name": "stdout",
     "output_type": "stream",
     "text": [
      "The autoreload extension is already loaded. To reload it, use:\n",
      "  %reload_ext autoreload\n"
     ]
    }
   ],
   "source": [
    "%load_ext autoreload\n",
    "%autoreload 2"
   ]
  },
  {
   "cell_type": "code",
   "execution_count": 725,
   "metadata": {},
   "outputs": [],
   "source": [
    "from data_models.basic import LinearData, LinearDataCorrelated, LinearDataTest\n",
    "from conformal_prediction.basic import SplitConformal, QuantileConformal\n",
    "from sklearn.linear_model import LinearRegression, QuantileRegressor\n",
    "from sklearn.ensemble import RandomForestRegressor\n",
    "import numpy as np\n",
    "import matplotlib.pyplot as plt\n",
    "import copy\n",
    "import matplotlib.patches as mpatches\n",
    "from collections import defaultdict\n",
    "import statsmodels.formula.api as smf\n",
    "import aux_funcs\n",
    "import json\n",
    "from scipy.stats import foldnorm\n",
    "import pandas as pd"
   ]
  },
  {
   "cell_type": "code",
   "execution_count": 3,
   "metadata": {},
   "outputs": [],
   "source": [
    "std = 0.5\n",
    "mu = 0\n",
    "\n",
    "err = np.random.normal(mu, std, size=100000)\n",
    "# rng = np.random.default_rng()\n",
    "# x = rng.multivariate_normal([0], np.eye(N=1)*0.05**2, size=10000)"
   ]
  },
  {
   "cell_type": "code",
   "execution_count": 6,
   "metadata": {},
   "outputs": [
    {
     "data": {
      "image/png": "[encoded data removed]",
      "text/plain": [
       "<Figure size 432x288 with 1 Axes>"
      ]
     },
     "metadata": {
      "needs_background": "light"
     },
     "output_type": "display_data"
    }
   ],
   "source": [
    "from scipy.stats import norm, foldnorm\n",
    "var = 1\n",
    "variance_1 = (std**2)*(var**2)\n",
    "variance_2 = std**2\n",
    "sigma = np.sqrt(variance_1 + variance_2)\n",
    "x = np.linspace(mu - 3*sigma, mu + 3*sigma, 1000)\n",
    "plt.plot(x, norm.pdf(x, mu, sigma), color='red')\n",
    "plt.axvline(norm.ppf(q=0.95, loc=mu, scale=sigma), color='green')\n",
    "plt.axvline(np.quantile(var*err+err, 0.95, interpolation='lower'), color='black')\n",
    "plt.hist(var*err+err, density=True, bins=100);"
   ]
  },
  {
   "cell_type": "code",
   "execution_count": 7,
   "metadata": {},
   "outputs": [
    {
     "data": {
      "image/png": "[encoded data removed]",
      "text/plain": [
       "<Figure size 432x288 with 1 Axes>"
      ]
     },
     "metadata": {
      "needs_background": "light"
     },
     "output_type": "display_data"
    }
   ],
   "source": [
    "from scipy.stats import norm, foldnorm\n",
    "var = 1\n",
    "mu = 0\n",
    "variance_1 = (std**2)*(var**2)\n",
    "variance_2 = std**2\n",
    "sigma = np.sqrt(variance_1) + np.sqrt(variance_2)\n",
    "x = np.linspace(mu - 3*sigma, mu + 3*sigma, 1000)\n",
    "plt.plot(x, norm.pdf(x, mu, sigma), color='red')\n",
    "plt.axvline(norm.ppf(q=0.95, loc=mu, scale=sigma), color='green')\n",
    "plt.axvline(np.quantile(var*err+err, 0.95, interpolation='lower'), color='black')\n",
    "plt.hist(var*err+err, density=True, bins=100);"
   ]
  },
  {
   "cell_type": "code",
   "execution_count": 697,
   "metadata": {},
   "outputs": [
    {
     "name": "stdout",
     "output_type": "stream",
     "text": [
      "0\n",
      "Linear Train:  0.06228468333632582\n",
      "Linear Calibration:  0.42355366770245273\n",
      "Linear Test:  0.40933500676546875\n",
      "=====================\n",
      "Linear Train:  0.061762684041307435\n",
      "Linear Calibration:  0.4092238490118086\n",
      "Linear Test:  0.40520541484515327\n",
      "=====================\n",
      "Linear Train:  0.06253648168064517\n",
      "Linear Calibration:  0.4193467928899365\n",
      "Linear Test:  0.41685137319225785\n",
      "=====================\n",
      "Linear Train:  0.06198327080716509\n",
      "Linear Calibration:  0.4132273785108775\n",
      "Linear Test:  0.4324765112947906\n",
      "=====================\n",
      "Linear Train:  0.062462987449125866\n",
      "Linear Calibration:  0.4117376815366969\n",
      "Linear Test:  0.41189258615895935\n",
      "=====================\n"
     ]
    }
   ],
   "source": [
    "from sklearn.svm import SVR\n",
    "from sklearn.metrics import mean_squared_error\n",
    "\n",
    "std=0.5\n",
    "# weights=np.array([8, 4, 0.1, -0.1, 8, -8, -4, -3, 1, 5])\n",
    "weights=np.array([8, 4, 0.1, -3, 5])\n",
    "\n",
    "# num_samples = 10000\n",
    "mu = np.array([0, 0, 0, 0, 0, \n",
    "            #    0, 0, 0, 0, 0\n",
    "              ])\n",
    "cov_matrix = np.eye(N=len(weights))*std**2\n",
    "\n",
    "num_samples = 100000\n",
    "\n",
    "B = 5\n",
    "model = RandomForestRegressor(n_estimators=50, max_depth=20, min_samples_split=2)\n",
    "# model = LinearRegression()\n",
    "conformal_type = SplitConformal\n",
    "alpha = 0.05\n",
    "\n",
    "f = 1\n",
    "\n",
    "boot_cov = []\n",
    "boot_size = []\n",
    "boot_cov_1 = defaultdict(list)\n",
    "boot_size_1 = defaultdict(list)\n",
    "boot_cov_2 = defaultdict(list)\n",
    "boot_size_2 = defaultdict(list)\n",
    "\n",
    "quant_abs = []\n",
    "quant_tot = []\n",
    "quant_imp = []\n",
    "\n",
    "quant_abs_1 = []\n",
    "quant_tot_1 = []\n",
    "quant_imp_1 = []\n",
    "\n",
    "quant_abs_2 = []\n",
    "quant_tot_2 = []\n",
    "quant_imp_2 = []\n",
    "\n",
    "for i in range(B):\n",
    "\n",
    "    if i % 5 == 0:\n",
    "        print(i)\n",
    "\n",
    "\n",
    "    lineardatacorr = LinearDataCorrelated(n=num_samples, mu=mu, cov_matrix=cov_matrix, std=std, weights=weights)\n",
    "    lineardatacorr.X_y_split(y='Y')\n",
    "\n",
    "    model_all = model\n",
    "    model_all.fit(lineardatacorr.train_data_X, lineardatacorr.train_data_y)\n",
    "    model_all = copy.copy(model_all)\n",
    "\n",
    "    residuals = (lineardatacorr.calib_data_y-model_all.predict(lineardatacorr.calib_data_X)).to_numpy()\n",
    "\n",
    "    quant_tot.append(np.quantile(residuals, int(np.ceil((len(residuals)+1)*(1-0.05)))/len(residuals), interpolation='lower'))\n",
    "    quant_abs.append(np.quantile(abs(residuals), int(np.ceil((len(residuals)+1)*(1-0.05)))/len(residuals), interpolation='lower'))\n",
    "\n",
    "    residuals_abs = abs(lineardatacorr.calib_data_y-model_all.predict(lineardatacorr.calib_data_X)).to_numpy()\n",
    "\n",
    "    residuals_abs.sort()\n",
    "    k = int(np.ceil((len(residuals_abs)+1)*(1-0.05)))\n",
    "    quant_imp.append(abs(residuals_abs)[k-1])\n",
    "\n",
    "    data_X_train = copy.copy(lineardatacorr.train_data_X)\n",
    "    data_X_calib = copy.copy(lineardatacorr.calib_data_X)\n",
    "    data_X_test = copy.copy(lineardatacorr.test_data_X)\n",
    "\n",
    "    train_pred = model_all.predict(X=lineardatacorr.train_data_X)\n",
    "    calib_pred = model_all.predict(X=lineardatacorr.calib_data_X)\n",
    "    test_pred = model_all.predict(X=lineardatacorr.test_data_X)\n",
    "\n",
    "    train_mse = mean_squared_error(lineardatacorr.train_data_y, train_pred)\n",
    "    calib_mse = mean_squared_error(lineardatacorr.calib_data_y, calib_pred)\n",
    "    test_mse = mean_squared_error(lineardatacorr.test_data_y, test_pred)\n",
    "\n",
    "    print('Linear Train: ', train_mse)\n",
    "    print('Linear Calibration: ', calib_mse)\n",
    "    print('Linear Test: ', test_mse)\n",
    "    print('=====================')\n",
    "    \n",
    "    # for variable in lineardatacorr.calib_data_X.columns:\n",
    "    for variable in ['f' + str(f)]:\n",
    "\n",
    "        # Train Twice\n",
    "        data_X_train_j_2 = data_X_train.loc[:, data_X_train.columns!=variable]\n",
    "        data_X_calib_j_2 = data_X_calib.loc[:, data_X_calib.columns!=variable]\n",
    "        data_X_test_j_2 = data_X_test.loc[:, data_X_test.columns!=variable]\n",
    "\n",
    "        model_j = model\n",
    "        model_j.fit(data_X_train_j_2, lineardatacorr.train_data_y)\n",
    "\n",
    "        residuals = (lineardatacorr.calib_data_y-model_j.predict(data_X_calib_j_2)).to_numpy()\n",
    "\n",
    "        quant_tot_2.append(np.quantile(residuals, int(np.ceil((len(residuals)+1)*(1-0.05)))/len(residuals), interpolation='lower'))\n",
    "        quant_abs_2.append(np.quantile(abs(residuals), int(np.ceil((len(residuals)+1)*(1-0.05)))/len(residuals), interpolation='lower'))\n",
    "\n",
    "        residuals_abs = abs(lineardatacorr.calib_data_y-model_j.predict(data_X_calib_j_2)).to_numpy()\n",
    "\n",
    "        residuals_abs.sort()\n",
    "        k = int(np.ceil((len(residuals_abs)+1)*(1-0.05)))\n",
    "        quant_imp_2.append(abs(residuals_abs)[k-1])\n",
    "\n",
    "\n",
    "        # Train Once\n",
    "        data_X_calib_j_1 = copy.copy(lineardatacorr.calib_data_X)\n",
    "        data_X_calib_j_1[variable] = 0\n",
    "        data_X_test_j_1 = copy.copy(lineardatacorr.test_data_X)\n",
    "        data_X_test_j_1[variable] = 0   \n",
    "\n",
    "        residuals = (lineardatacorr.calib_data_y-model_all.predict(data_X_calib_j_1)).to_numpy()\n",
    "\n",
    "        quant_tot_1.append(np.quantile(residuals, int(np.ceil((len(residuals)+1)*(1-0.05)))/len(residuals), interpolation='lower'))\n",
    "        quant_abs_1.append(np.quantile(abs(residuals), int(np.ceil((len(residuals)+1)*(1-0.05)))/len(residuals), interpolation='lower'))\n",
    "\n",
    "        residuals_abs = abs(lineardatacorr.calib_data_y-model_all.predict(data_X_calib_j_1)).to_numpy()\n",
    "\n",
    "        residuals_abs.sort()\n",
    "        k = int(np.ceil((len(residuals_abs)+1)*(1-0.05)))\n",
    "        quant_imp_1.append(abs(residuals_abs)[k-1])\n"
   ]
  },
  {
   "cell_type": "markdown",
   "metadata": {},
   "source": [
    "What we are doing is estimate the expectation of the quantile values of the residual at the alpha level for a bunch of data simulations.\n",
    "We can see that the estimated expectation is close to the true underlying quantile value of a true residual distribution which should be a normal distribution over the  mu and std given initially.\n",
    "We also compare, just in case, that we are calculating the quantile correctly in the  conformal prediction code and that everything matches"
   ]
  },
  {
   "cell_type": "code",
   "execution_count": 698,
   "metadata": {},
   "outputs": [
    {
     "data": {
      "text/plain": [
       "<matplotlib.lines.Line2D at 0x191840395c8>"
      ]
     },
     "execution_count": 698,
     "metadata": {},
     "output_type": "execute_result"
    },
    {
     "data": {
      "image/png": "[encoded data removed]",
      "text/plain": [
       "<Figure size 432x288 with 1 Axes>"
      ]
     },
     "metadata": {
      "needs_background": "light"
     },
     "output_type": "display_data"
    }
   ],
   "source": [
    "mu = 0\n",
    "x = np.linspace(mu - 3*std, mu + 3*std, 1000)\n",
    "plt.plot(x, norm.pdf(x, mu, std), color='red')\n",
    "plt.axvline(norm.ppf(q=0.95, loc=mu, scale=std), color='green')\n",
    "plt.axvline(np.mean(quant_tot), color='black')\n",
    "# plt.hist(residuals, bins=70, density=True);"
   ]
  },
  {
   "cell_type": "code",
   "execution_count": 699,
   "metadata": {},
   "outputs": [
    {
     "name": "stdout",
     "output_type": "stream",
     "text": [
      "0.8224268134757361\n",
      "1.0208361591126243\n"
     ]
    }
   ],
   "source": [
    "print(norm.ppf(q=0.95, loc=mu, scale=std))\n",
    "print(np.mean(quant_tot))"
   ]
  },
  {
   "cell_type": "code",
   "execution_count": 700,
   "metadata": {},
   "outputs": [
    {
     "data": {
      "text/plain": [
       "<matplotlib.lines.Line2D at 0x19185e24f88>"
      ]
     },
     "execution_count": 700,
     "metadata": {},
     "output_type": "execute_result"
    },
    {
     "data": {
      "image/png": "[encoded data removed]",
      "text/plain": [
       "<Figure size 432x288 with 1 Axes>"
      ]
     },
     "metadata": {
      "needs_background": "light"
     },
     "output_type": "display_data"
    }
   ],
   "source": [
    "x = np.linspace(mu - 3*std, mu + 3*std, 1000)\n",
    "plt.plot(x, foldnorm.pdf(x, c=mu, scale=std), color='red')\n",
    "plt.axvline(foldnorm.ppf(q=0.95, c=mu, scale=std), color='green')\n",
    "plt.axvline(np.mean(quant_abs), color='black')\n",
    "# plt.hist(abs(residuals), bins=50, density=True);"
   ]
  },
  {
   "cell_type": "code",
   "execution_count": 701,
   "metadata": {},
   "outputs": [
    {
     "name": "stdout",
     "output_type": "stream",
     "text": [
      "0.9799819922700269\n",
      "1.2438040581932455\n"
     ]
    }
   ],
   "source": [
    "print(foldnorm.ppf(q=0.95, c=mu, scale=std))\n",
    "print(np.mean(quant_abs))"
   ]
  },
  {
   "cell_type": "code",
   "execution_count": 702,
   "metadata": {},
   "outputs": [
    {
     "data": {
      "text/plain": [
       "1.2438040581932455"
      ]
     },
     "execution_count": 702,
     "metadata": {},
     "output_type": "execute_result"
    }
   ],
   "source": [
    "np.mean(quant_imp)"
   ]
  },
  {
   "cell_type": "markdown",
   "metadata": {},
   "source": [
    "Let's now check-out the distributions that are generated through the removal of one of the variables and once again see if we are able to reach through simulation the true underlying values, for both train once and train twice"
   ]
  },
  {
   "cell_type": "markdown",
   "metadata": {},
   "source": [
    "### Train Once"
   ]
  },
  {
   "cell_type": "code",
   "execution_count": 703,
   "metadata": {},
   "outputs": [
    {
     "data": {
      "text/plain": [
       "0.5"
      ]
     },
     "execution_count": 703,
     "metadata": {},
     "output_type": "execute_result"
    }
   ],
   "source": [
    "std"
   ]
  },
  {
   "cell_type": "code",
   "execution_count": 704,
   "metadata": {},
   "outputs": [
    {
     "data": {
      "text/plain": [
       "64.0"
      ]
     },
     "execution_count": 704,
     "metadata": {},
     "output_type": "execute_result"
    }
   ],
   "source": [
    "weights[f-1]**2"
   ]
  },
  {
   "cell_type": "code",
   "execution_count": 705,
   "metadata": {},
   "outputs": [
    {
     "data": {
      "text/plain": [
       "<matplotlib.lines.Line2D at 0x1918409c608>"
      ]
     },
     "execution_count": 705,
     "metadata": {},
     "output_type": "execute_result"
    },
    {
     "data": {
      "image/png": "[encoded data removed]",
      "text/plain": [
       "<Figure size 432x288 with 1 Axes>"
      ]
     },
     "metadata": {
      "needs_background": "light"
     },
     "output_type": "display_data"
    }
   ],
   "source": [
    "sigma = weights[f-1]**2*std**2+std**2\n",
    "\n",
    "x = np.linspace(mu - 3*np.sqrt(sigma), mu + 3*np.sqrt(sigma), 1000)\n",
    "plt.plot(x, norm.pdf(x, mu, np.sqrt(sigma)), color='red')\n",
    "plt.axvline(norm.ppf(q=0.95, loc=mu, scale=np.sqrt(sigma)), color='green')\n",
    "plt.axvline(np.mean(quant_tot_1), color='black')\n",
    "# plt.hist(residuals, bins=70, density=True);"
   ]
  },
  {
   "cell_type": "code",
   "execution_count": 706,
   "metadata": {},
   "outputs": [
    {
     "name": "stdout",
     "output_type": "stream",
     "text": [
      "6.6306169493532385\n",
      "6.571785249897042\n"
     ]
    }
   ],
   "source": [
    "print(norm.ppf(q=0.95, loc=mu, scale=np.sqrt(sigma)))\n",
    "print(np.mean(quant_tot_1))"
   ]
  },
  {
   "cell_type": "code",
   "execution_count": 707,
   "metadata": {},
   "outputs": [
    {
     "data": {
      "text/plain": [
       "<matplotlib.lines.Line2D at 0x19186a57188>"
      ]
     },
     "execution_count": 707,
     "metadata": {},
     "output_type": "execute_result"
    },
    {
     "data": {
      "image/png": "[encoded data removed]",
      "text/plain": [
       "<Figure size 432x288 with 1 Axes>"
      ]
     },
     "metadata": {
      "needs_background": "light"
     },
     "output_type": "display_data"
    }
   ],
   "source": [
    "mu = 0\n",
    "x = np.linspace(mu - 3*np.sqrt(sigma), mu + 3*np.sqrt(sigma), 1000)\n",
    "plt.plot(x, foldnorm.pdf(x, c=mu, scale=np.sqrt(sigma)), color='red')\n",
    "plt.axvline(foldnorm.ppf(q=0.95, c=mu, scale=np.sqrt(sigma)), color='green')\n",
    "plt.axvline(np.mean(quant_abs_1), color='black')\n",
    "# plt.hist(abs(residuals), bins=50, density=True);"
   ]
  },
  {
   "cell_type": "code",
   "execution_count": 708,
   "metadata": {},
   "outputs": [
    {
     "name": "stdout",
     "output_type": "stream",
     "text": [
      "7.900867410372073\n",
      "7.910415549070313\n"
     ]
    }
   ],
   "source": [
    "print(foldnorm.ppf(q=0.95, c=mu, scale=np.sqrt(sigma)))\n",
    "print(np.mean(quant_abs_1))"
   ]
  },
  {
   "cell_type": "code",
   "execution_count": 709,
   "metadata": {},
   "outputs": [
    {
     "data": {
      "text/plain": [
       "7.910415549070313"
      ]
     },
     "execution_count": 709,
     "metadata": {},
     "output_type": "execute_result"
    }
   ],
   "source": [
    "np.mean(quant_imp_1)"
   ]
  },
  {
   "cell_type": "markdown",
   "metadata": {},
   "source": [
    "### Train twice"
   ]
  },
  {
   "cell_type": "code",
   "execution_count": 710,
   "metadata": {},
   "outputs": [
    {
     "data": {
      "text/plain": [
       "<matplotlib.lines.Line2D at 0x1919b4fefc8>"
      ]
     },
     "execution_count": 710,
     "metadata": {},
     "output_type": "execute_result"
    },
    {
     "data": {
      "image/png": "[encoded data removed]",
      "text/plain": [
       "<Figure size 432x288 with 1 Axes>"
      ]
     },
     "metadata": {
      "needs_background": "light"
     },
     "output_type": "display_data"
    }
   ],
   "source": [
    "mu = 0\n",
    "x = np.linspace(mu - 3*np.sqrt(sigma), mu + 3*np.sqrt(sigma), 1000)\n",
    "plt.plot(x, norm.pdf(x, mu, np.sqrt(sigma)), color='red')\n",
    "plt.axvline(norm.ppf(q=0.95, loc=mu, scale=np.sqrt(sigma)), color='green')\n",
    "plt.axvline(np.mean(quant_tot_2), color='black')\n",
    "# plt.hist(residuals, bins=70, density=True);"
   ]
  },
  {
   "cell_type": "code",
   "execution_count": 711,
   "metadata": {},
   "outputs": [
    {
     "name": "stdout",
     "output_type": "stream",
     "text": [
      "6.6306169493532385\n",
      "6.833980950192958\n"
     ]
    }
   ],
   "source": [
    "print(norm.ppf(q=0.95, loc=mu, scale=np.sqrt(sigma)))\n",
    "print(np.mean(quant_tot_2))"
   ]
  },
  {
   "cell_type": "code",
   "execution_count": 712,
   "metadata": {},
   "outputs": [
    {
     "data": {
      "text/plain": [
       "<matplotlib.lines.Line2D at 0x19184119e08>"
      ]
     },
     "execution_count": 712,
     "metadata": {},
     "output_type": "execute_result"
    },
    {
     "data": {
      "image/png": "[encoded data removed]",
      "text/plain": [
       "<Figure size 432x288 with 1 Axes>"
      ]
     },
     "metadata": {
      "needs_background": "light"
     },
     "output_type": "display_data"
    }
   ],
   "source": [
    "x = np.linspace(mu - 3*np.sqrt(sigma), mu + 3*np.sqrt(sigma), 1000)\n",
    "plt.plot(x, foldnorm.pdf(x, c=mu, scale=np.sqrt(sigma)), color='red')\n",
    "plt.axvline(foldnorm.ppf(q=0.95, c=mu, scale=np.sqrt(sigma)), color='green')\n",
    "plt.axvline(np.mean(quant_abs_2), color='black')\n",
    "# plt.hist(abs(residuals), bins=50, density=True);"
   ]
  },
  {
   "cell_type": "code",
   "execution_count": 713,
   "metadata": {},
   "outputs": [
    {
     "name": "stdout",
     "output_type": "stream",
     "text": [
      "7.900867410372073\n",
      "8.154726699641767\n"
     ]
    }
   ],
   "source": [
    "print(foldnorm.ppf(q=0.95, c=mu, scale=np.sqrt(sigma)))\n",
    "print(np.mean(quant_abs_2))"
   ]
  },
  {
   "cell_type": "code",
   "execution_count": 714,
   "metadata": {},
   "outputs": [
    {
     "data": {
      "text/plain": [
       "8.154726699641767"
      ]
     },
     "execution_count": 714,
     "metadata": {},
     "output_type": "execute_result"
    }
   ],
   "source": [
    "np.mean(quant_imp_2)"
   ]
  },
  {
   "cell_type": "markdown",
   "metadata": {},
   "source": [
    "### Now putting everything together..."
   ]
  },
  {
   "cell_type": "code",
   "execution_count": 721,
   "metadata": {},
   "outputs": [
    {
     "data": {
      "text/plain": [
       "<matplotlib.lines.Line2D at 0x191845b0348>"
      ]
     },
     "execution_count": 721,
     "metadata": {},
     "output_type": "execute_result"
    },
    {
     "data": {
      "image/png": "[encoded data removed]",
      "text/plain": [
       "<Figure size 432x288 with 1 Axes>"
      ]
     },
     "metadata": {
      "needs_background": "light"
     },
     "output_type": "display_data"
    }
   ],
   "source": [
    "x = np.linspace(mu - 3*np.sqrt(sigma), mu + 3*np.sqrt(sigma), 1000)\n",
    "plt.plot(x, foldnorm.pdf(x, c=mu, scale=np.sqrt(sigma)), color='red')\n",
    "plt.axvline(2*(foldnorm.ppf(q=0.95, c=mu, scale=np.sqrt(sigma)) - foldnorm.ppf(q=0.95, c=mu, scale=std)), color='green')\n",
    "plt.axvline(2*(np.mean(np.array(quant_abs_2) - np.array(quant_abs))), color='black')\n",
    "# plt.hist(residuals, bins=70, density=True);"
   ]
  },
  {
   "cell_type": "code",
   "execution_count": 716,
   "metadata": {},
   "outputs": [
    {
     "name": "stdout",
     "output_type": "stream",
     "text": [
      "6.9208854181020465\n",
      "6.910922641448521\n"
     ]
    }
   ],
   "source": [
    "print(foldnorm.ppf(q=0.95, c=mu, scale=np.sqrt(sigma)) - foldnorm.ppf(q=0.95, c=mu, scale=std))\n",
    "print(np.mean(np.array(quant_abs_2)) - np.mean(np.array(quant_abs)))"
   ]
  },
  {
   "cell_type": "code",
   "execution_count": 720,
   "metadata": {},
   "outputs": [
    {
     "data": {
      "text/plain": [
       "<matplotlib.lines.Line2D at 0x1918453f788>"
      ]
     },
     "execution_count": 720,
     "metadata": {},
     "output_type": "execute_result"
    },
    {
     "data": {
      "image/png": "[encoded data removed]",
      "text/plain": [
       "<Figure size 432x288 with 1 Axes>"
      ]
     },
     "metadata": {
      "needs_background": "light"
     },
     "output_type": "display_data"
    }
   ],
   "source": [
    "x = np.linspace(mu - 3*np.sqrt(sigma), mu + 3*np.sqrt(sigma), 1000)\n",
    "plt.plot(x, foldnorm.pdf(x, c=mu, scale=np.sqrt(sigma)), color='red')\n",
    "plt.axvline(foldnorm.ppf(q=0.95, c=mu, scale=np.sqrt(sigma)) - foldnorm.ppf(q=0.95, c=mu, scale=std), color='green')\n",
    "plt.axvline(np.mean(np.array(quant_abs_1) - np.array(quant_abs)), color='black')\n",
    "# plt.hist(residuals, bins=70, density=True);"
   ]
  },
  {
   "cell_type": "code",
   "execution_count": 718,
   "metadata": {},
   "outputs": [
    {
     "name": "stdout",
     "output_type": "stream",
     "text": [
      "6.9208854181020465\n",
      "6.6666114908770675\n"
     ]
    }
   ],
   "source": [
    "print(foldnorm.ppf(q=0.95, c=mu, scale=np.sqrt(sigma)) - foldnorm.ppf(q=0.95, c=mu, scale=std))\n",
    "print(np.mean(np.array(quant_abs_1)) - np.mean(np.array(quant_abs)))"
   ]
  },
  {
   "cell_type": "code",
   "execution_count": null,
   "metadata": {},
   "outputs": [],
   "source": []
  },
  {
   "cell_type": "markdown",
   "metadata": {},
   "source": [
    "### Making sure the asymptotic confidence interval is correct"
   ]
  },
  {
   "cell_type": "code",
   "execution_count": null,
   "metadata": {},
   "outputs": [],
   "source": [
    "from sklearn.svm import SVR\n",
    "from sklearn.metrics import mean_squared_error\n",
    "\n",
    "std=1\n",
    "# weights=np.array([8, 4, 0.1, -0.1, 8, -8, -4, -3, 1, 5])\n",
    "weights=np.array([8, 4, 0.1, -3, 5])\n",
    "\n",
    "# num_samples = 10000\n",
    "mu = np.array([0, 0, 0, 0, 0, \n",
    "            #    0, 0, 0, 0, 0\n",
    "              ])\n",
    "cov_matrix = np.eye(N=len(weights))*std**2\n",
    "\n",
    "num_samples = 10000\n",
    "\n",
    "B = 1000\n",
    "# model = RandomForestRegressor(n_estimators=50, max_depth=20, min_samples_split=2)\n",
    "model = LinearRegression()\n",
    "conformal_type = SplitConformal\n",
    "alpha = 0.05\n",
    "\n",
    "f = 1\n",
    "\n",
    "size_all = []\n",
    "size_j = []\n",
    "\n",
    "for i in range(B):\n",
    "\n",
    "    if i % 50 == 0:\n",
    "        print(i)\n",
    "\n",
    "    lineardatacorr = LinearDataCorrelated(n=num_samples, mu=mu, cov_matrix=cov_matrix, std=std, weights=weights)\n",
    "    lineardatacorr.X_y_split(y='Y')\n",
    "\n",
    "    model_all = model\n",
    "    model_all.fit(lineardatacorr.train_data_X, lineardatacorr.train_data_y)\n",
    "    model_all = copy.copy(model_all)\n",
    "\n",
    "    residuals = (lineardatacorr.calib_data_y-model_all.predict(lineardatacorr.calib_data_X)).to_numpy()\n",
    "\n",
    "    size_all.append(2*np.quantile(residuals, int(np.ceil((len(residuals)+1)*(1-0.05)))/len(residuals), interpolation='lower'))\n",
    "\n",
    "    data_X_train = copy.copy(lineardatacorr.train_data_X)\n",
    "    data_X_calib = copy.copy(lineardatacorr.calib_data_X)\n",
    "    data_X_test = copy.copy(lineardatacorr.test_data_X)\n",
    "    \n",
    "    # for variable in lineardatacorr.calib_data_X.columns:\n",
    "    for variable in ['f' + str(f)]:\n",
    "\n",
    "        # Train Once\n",
    "        data_X_calib_j_1 = copy.copy(lineardatacorr.calib_data_X)\n",
    "        data_X_calib_j_1[variable] = 0\n",
    "        data_X_test_j_1 = copy.copy(lineardatacorr.test_data_X)\n",
    "        data_X_test_j_1[variable] = 0   \n",
    "\n",
    "        residuals = (lineardatacorr.calib_data_y-model_all.predict(data_X_calib_j_1)).to_numpy()\n",
    "\n",
    "        size_j.append(2*np.quantile(residuals, int(np.ceil((len(residuals)+1)*(1-0.05)))/len(residuals), interpolation='lower'))"
   ]
  },
  {
   "cell_type": "code",
   "execution_count": 818,
   "metadata": {},
   "outputs": [
    {
     "data": {
      "text/plain": [
       "<matplotlib.collections.PolyCollection at 0x19184b980c8>"
      ]
     },
     "execution_count": 818,
     "metadata": {},
     "output_type": "execute_result"
    },
    {
     "data": {
      "image/png": "[encoded data removed]",
      "text/plain": [
       "<Figure size 432x288 with 1 Axes>"
      ]
     },
     "metadata": {
      "needs_background": "light"
     },
     "output_type": "display_data"
    }
   ],
   "source": [
    "from scipy.stats import pearsonr, t\n",
    "\n",
    "pearson = pearsonr(size_all, size_j)[0]\n",
    "mean_all = np.mean(size_all)\n",
    "std_all = np.std(size_all, ddof=1)/np.sqrt(1)\n",
    "mean_j = np.mean(size_j)\n",
    "std_j = np.std(size_j, ddof=1)/np.sqrt(1)\n",
    "mean = mean_j - mean_all\n",
    "std = std_all+std_j - 2*pearson\n",
    "h = std * t.ppf((1 + 0.95) / 2., B-1)\n",
    "x = np.linspace(mean - 3*std, mean + 3*std, 1000)\n",
    "plt.plot(x, norm.pdf(x, mean, std), color='red')\n",
    "plt.hist(np.array(size_j)-np.array(size_all), bins=50, density=True, alpha=0.7);\n",
    "plt.fill_between(\n",
    "        x= x, \n",
    "        y1= norm.pdf(x, mean, std), \n",
    "        where= (mean-h < x)&(x < mean+h),\n",
    "        hatch='x', alpha=0.5, color='red')"
   ]
  },
  {
   "cell_type": "code",
   "execution_count": null,
   "metadata": {},
   "outputs": [],
   "source": []
  }
 ],
 "metadata": {
  "interpreter": {
   "hash": "3ae3fc0759c9e73d751d036546780ef05fb57892d7968af11766dd413d6d1d18"
  },
  "kernelspec": {
   "display_name": "Python 3.7.9 ('data_science_general')",
   "language": "python",
   "name": "python3"
  },
  "language_info": {
   "codemirror_mode": {
    "name": "ipython",
    "version": 3
   },
   "file_extension": ".py",
   "mimetype": "text/x-python",
   "name": "python",
   "nbconvert_exporter": "python",
   "pygments_lexer": "ipython3",
   "version": "3.7.9"
  },
  "orig_nbformat": 4
 },
 "nbformat": 4,
 "nbformat_minor": 2
}
